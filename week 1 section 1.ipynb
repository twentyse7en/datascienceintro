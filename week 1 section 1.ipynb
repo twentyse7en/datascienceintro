{
 "cells": [
  {
   "cell_type": "markdown",
   "metadata": {},
   "source": [
    "# Sequencing"
   ]
  },
  {
   "cell_type": "code",
   "execution_count": 7,
   "metadata": {},
   "outputs": [
    {
     "data": {
      "text/plain": [
       "[1, 2, 3, 4, 5]"
      ]
     },
     "execution_count": 7,
     "metadata": {},
     "output_type": "execute_result"
    }
   ],
   "source": [
    "#appending a value to a list\n",
    "\n",
    "list1 = [1, 2, 3, 4]\n",
    "list1.append(5)\n",
    "list1"
   ]
  },
  {
   "cell_type": "code",
   "execution_count": 4,
   "metadata": {},
   "outputs": [
    {
     "data": {
      "text/plain": [
       "[1, 2, 3, 4]"
      ]
     },
     "execution_count": 4,
     "metadata": {},
     "output_type": "execute_result"
    }
   ],
   "source": [
    "#list concatination\n",
    "\n",
    "[1, 2]+[3, 4]"
   ]
  },
  {
   "cell_type": "code",
   "execution_count": 5,
   "metadata": {},
   "outputs": [
    {
     "data": {
      "text/plain": [
       "[1, 1, 1]"
      ]
     },
     "execution_count": 5,
     "metadata": {},
     "output_type": "execute_result"
    }
   ],
   "source": [
    "#repeats the value in the list\n",
    "\n",
    "[1]*3"
   ]
  },
  {
   "cell_type": "code",
   "execution_count": 6,
   "metadata": {},
   "outputs": [
    {
     "data": {
      "text/plain": [
       "True"
      ]
     },
     "execution_count": 6,
     "metadata": {},
     "output_type": "execute_result"
    }
   ],
   "source": [
    "#return boolean by checkin the list\n",
    "\n",
    "1 in [1, 2, 3]"
   ]
  },
  {
   "cell_type": "code",
   "execution_count": 18,
   "metadata": {},
   "outputs": [
    {
     "name": "stdout",
     "output_type": "stream",
     "text": [
      "t\n",
      "t\n",
      "thi\n",
      "g\n",
      "ri\n"
     ]
    }
   ],
   "source": [
    "#strings are treated as array of characters\n",
    "\n",
    "x = 'this is a string'\n",
    "\n",
    "print(x[0:1])\n",
    "print(x[:1])\n",
    "print(x[:3])\n",
    "print(x[-1])\n",
    "print(x[-4:-2])\n",
    "##include image for a clearer explanation"
   ]
  },
  {
   "cell_type": "code",
   "execution_count": 20,
   "metadata": {},
   "outputs": [
    {
     "name": "stdout",
     "output_type": "stream",
     "text": [
      "Bruce\n",
      "wayne\n",
      "Justice League\n"
     ]
    }
   ],
   "source": [
    "#unpacking\n",
    "x = ('Bruce','wayne','Justice League')\n",
    "\n",
    "#it can be a tuple () as above\n",
    "#or a list ['Bruce','wayne','Justice League']\n",
    "\n",
    "fname, lname, org = x\n",
    "\n",
    "print(fname)\n",
    "print(lname)\n",
    "print(org)"
   ]
  },
  {
   "cell_type": "markdown",
   "metadata": {},
   "source": [
    "# More on strings"
   ]
  },
  {
   "cell_type": "code",
   "execution_count": 23,
   "metadata": {},
   "outputs": [
    {
     "name": "stdout",
     "output_type": "stream",
     "text": [
      "Superman bought 4 item(s) at a price of 101.24\n"
     ]
    }
   ],
   "source": [
    "sales_record = {'price': 101.24,\n",
    "               'num_items': 4,\n",
    "               'person': 'Superman'}\n",
    "\n",
    "#using place holders for each varible {}, we could easily\n",
    "#print a combination of strings and variable\n",
    "\n",
    "print(\"{0} bought {1} item(s) at a price of {2}\".format(sales_record['person'],\n",
    "                                                       sales_record['num_items'],\n",
    "                                                       sales_record['price']))"
   ]
  },
  {
   "cell_type": "code",
   "execution_count": 25,
   "metadata": {},
   "outputs": [
    {
     "name": "stdout",
     "output_type": "stream",
     "text": [
      "carrot : 101.24\n"
     ]
    }
   ],
   "source": [
    "price = 101.24\n",
    "item  = 'carrot'\n",
    "\n",
    "print(f'{item} : {price}')"
   ]
  },
  {
   "cell_type": "code",
   "execution_count": null,
   "metadata": {},
   "outputs": [],
   "source": []
  }
 ],
 "metadata": {
  "kernelspec": {
   "display_name": "Python 3",
   "language": "python",
   "name": "python3"
  },
  "language_info": {
   "codemirror_mode": {
    "name": "ipython",
    "version": 3
   },
   "file_extension": ".py",
   "mimetype": "text/x-python",
   "name": "python",
   "nbconvert_exporter": "python",
   "pygments_lexer": "ipython3",
   "version": "3.7.4"
  }
 },
 "nbformat": 4,
 "nbformat_minor": 2
}
